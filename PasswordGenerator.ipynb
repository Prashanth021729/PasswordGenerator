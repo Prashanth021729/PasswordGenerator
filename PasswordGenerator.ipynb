{
 "cells": [
  {
   "cell_type": "code",
   "execution_count": 4,
   "id": "70630229",
   "metadata": {},
   "outputs": [
    {
     "name": "stdout",
     "output_type": "stream",
     "text": [
      "Enter the length of password: 120\n",
      "Do you need numbers(y/n): n\n",
      "Do you need special charecters(y/n): y\n"
     ]
    },
    {
     "data": {
      "text/plain": [
       "\" `?ugyNDMh_}'HLVG+LkWHT?S.i]d+e(M_~?DP[qAB.cYAGKA#-d+>\\\\sXMG,TdC#!:&+d>LGE/g:>ShOZ$.c\\\\v]*^M+}E{F*lrbICp\\\\pHBUP:<'GRJ%i$/;>\""
      ]
     },
     "execution_count": 4,
     "metadata": {},
     "output_type": "execute_result"
    }
   ],
   "source": [
    "import random\n",
    "import string\n",
    "\n",
    "def passwordGenerator(minlength, numbers=True, special_charecters=True):\n",
    "    letters = string.ascii_letters\n",
    "    digits = string.digits\n",
    "    special = string.punctuation\n",
    "\n",
    "    charecters = letters\n",
    "    \n",
    "    if numbers:\n",
    "        charecters += digits\n",
    "    if special_charecters:\n",
    "        charecters += special\n",
    "    pwd = \" \"\n",
    "    meet_criteria = False\n",
    "    has_number = False\n",
    "    has_special = False\n",
    "\n",
    "    while not meet_criteria or len(pwd)< minlength:\n",
    "        new_char = random.choice(charecters)\n",
    "        pwd += new_char\n",
    "\n",
    "        if new_char in digits:\n",
    "            has_number = True\n",
    "        elif new_char in special:\n",
    "            has_special = True\n",
    "        \n",
    "        meet_criteria = True\n",
    "        if numbers:\n",
    "            meet_criteria = has_number\n",
    "        if special_charecters:\n",
    "            meet_criteria = meet_criteria and has_special\n",
    "    return pwd\n",
    "minlength = int(input(\"Enter the length of password: \"))\n",
    "has_number = input(\"Do you need numbers(y/n): \") == \"y\"\n",
    "has_special = input(\"Do you need special charecters(y/n): \").lower() == \"y\"\n",
    "passwordGenerator(minlength, has_number, has_special)\n",
    "    \n"
   ]
  },
  {
   "cell_type": "code",
   "execution_count": null,
   "id": "f69715af",
   "metadata": {},
   "outputs": [],
   "source": []
  }
 ],
 "metadata": {
  "kernelspec": {
   "display_name": "Python 3 (ipykernel)",
   "language": "python",
   "name": "python3"
  },
  "language_info": {
   "codemirror_mode": {
    "name": "ipython",
    "version": 3
   },
   "file_extension": ".py",
   "mimetype": "text/x-python",
   "name": "python",
   "nbconvert_exporter": "python",
   "pygments_lexer": "ipython3",
   "version": "3.9.12"
  }
 },
 "nbformat": 4,
 "nbformat_minor": 5
}
